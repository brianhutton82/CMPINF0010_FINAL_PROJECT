{
 "cells": [
  {
   "cell_type": "markdown",
   "metadata": {},
   "source": [
    "<h1>Introduction</h1>\n",
    "\n",
    "<p>Each neighborhood in Pittsburgh has its own unique appeal but most people can agree that the quality of the environment is a major contributing factor when considering a place to live. Not many people want to live next to a polluted river or breath in polluted air and so we figured that by examining the environmental factors of some Pittsburgh neighborhoods we could determine the best neighborhood in Pittsburgh as the one with the best environmental qualities.</p>\n",
    "\n",
    "<p>We chose to measure the environmental quality of each neighborhood by looking at the air quality, the water quality, and ~~~XXXXXXX~~~ </p>\n",
    "\n",
    "<p> We obtained our data sets from the <a href=\"http://www.wprdc.org/\">Western Pennsylvania Regional Data Center</a>. The Western Pennsylvania Regional Data Center hosts many datasets gathered by public sector agencies, academic institutions, and non-profit organizations.</p>\n",
    "\n",
    "<h4>Dataset Sources</h4>\n",
    "<table>\n",
    "    <tr>\n",
    "        <th>Air Quality</th>\n",
    "        <th>Water Quality</th>\n",
    "        <th>X Quality</th>\n",
    "    </tr>\n",
    "    <tr>\n",
    "        <td>Allegheny County Health Department</td>\n",
    "        <td>Allegheny County Health Department</td>\n",
    "        <td>Allegheny County Health Department</td>\n",
    "    </tr>\n",
    "</table>"
   ]
  },
  {
   "cell_type": "code",
   "execution_count": 5,
   "metadata": {},
   "outputs": [
    {
     "name": "stdout",
     "output_type": "stream",
     "text": [
      "The dataset we used contains air quality for the following 15 neighborhoods/regions:\n",
      "Lawrenceville\n",
      "Flag Plaza\n",
      "Harrison Township\n",
      "Avalon\n",
      "Lincoln\n",
      "South Fayette\n",
      "North Braddock\n",
      "Parkway East\n",
      "Liberty 2\n",
      "Lawrenceville 2\n",
      "Glassport High Street\n",
      "Liberty\n",
      "Clairton\n",
      "West Mifflin\n",
      "Pittsburgh\n"
     ]
    }
   ],
   "source": [
    "import pandas as pd\n",
    "import numpy as np\n",
    "%matplotlib inline\n",
    "import matplotlib.pyplot as plt\n",
    "\n",
    "# aqi_data = pd.read_csv(\"daily_aqi_data.csv\", index_col=\"date\", parse_dates=True)\n",
    "aqi_data = pd.read_csv(\"daily_aqi_data.csv\", index_col=\"site\")\n",
    "# aqi_data.head(10)\n",
    "\n",
    "neighborhood_names = aqi_data.index.unique()\n",
    "\n",
    "print(\"The dataset we used contains air quality for the following {} neighborhoods/regions:\".format(len(neighborhood_names)))\n",
    "\n",
    "for neighborhood in neighborhood_names:\n",
    "    print(neighborhood)"
   ]
  },
  {
   "cell_type": "code",
   "execution_count": null,
   "metadata": {},
   "outputs": [],
   "source": []
  }
 ],
 "metadata": {
  "kernelspec": {
   "display_name": "Python 3",
   "language": "python",
   "name": "python3"
  },
  "language_info": {
   "codemirror_mode": {
    "name": "ipython",
    "version": 3
   },
   "file_extension": ".py",
   "mimetype": "text/x-python",
   "name": "python",
   "nbconvert_exporter": "python",
   "pygments_lexer": "ipython3",
   "version": "3.8.3"
  }
 },
 "nbformat": 4,
 "nbformat_minor": 4
}
